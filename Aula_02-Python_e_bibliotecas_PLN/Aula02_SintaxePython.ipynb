{
  "nbformat": 4,
  "nbformat_minor": 0,
  "metadata": {
    "colab": {
      "provenance": []
    },
    "kernelspec": {
      "name": "python3",
      "display_name": "Python 3"
    },
    "language_info": {
      "name": "python"
    }
  },
  "cells": [
    {
      "cell_type": "markdown",
      "source": [
        "# 1. Sintaxe básica e Estrutura do código em py"
      ],
      "metadata": {
        "id": "--Mwy8DuUFjA"
      }
    },
    {
      "cell_type": "code",
      "source": [
        "print(\"codigo\")\n",
        "\n",
        "print('Hello world')"
      ],
      "metadata": {
        "colab": {
          "base_uri": "https://localhost:8080/"
        },
        "id": "d7hc76b-Uk0Q",
        "outputId": "13287d51-c95b-4bd3-e1ef-3b8d2520f580"
      },
      "execution_count": 1,
      "outputs": [
        {
          "output_type": "stream",
          "name": "stdout",
          "text": [
            "codigo\n",
            "Hello world\n"
          ]
        }
      ]
    },
    {
      "cell_type": "markdown",
      "source": [
        "# 2. Atribuição de variáveis"
      ],
      "metadata": {
        "id": "B3AYR5pFUwUK"
      }
    },
    {
      "cell_type": "code",
      "source": [
        "carros = 100\n",
        "espacoEmUmCarro = 4.0\n",
        "motoristas = 30\n",
        "passageiros = 90\n",
        "carrosNaoDirigidos = carros - motoristas\n",
        "carrosDirigidos = motoristas\n",
        "capacidadeCarona = carrosDirigidos * espacoEmUmCarro\n",
        "mediaPassageirosPorCarro = passageiros / carrosDirigidos\n",
        "\n",
        "print(\"Há\", carros, \"carros disponíveis.\")\n",
        "print(\"Há apenas\", motoristas, \"motoristas disponí­veis.\")\n",
        "print(\"Haverá\", carrosNaoDirigidos, \"carros vazios hoje.\")\n",
        "print(\"Podemos transportar\", capacidadeCarona, \"pessoas hoje.\")\n",
        "print(\"Temos\", passageiros, \"passageiros para a carona hoje.\")\n",
        "print(\"Precisamos colocar cerca de\", mediaPassageirosPorCarro, \"em cada carro.\")\n",
        "print(10/5)"
      ],
      "metadata": {
        "colab": {
          "base_uri": "https://localhost:8080/"
        },
        "id": "CLrHC8owUzk4",
        "outputId": "fd338a60-1af6-4608-e00a-74e6866b29d2"
      },
      "execution_count": 2,
      "outputs": [
        {
          "output_type": "stream",
          "name": "stdout",
          "text": [
            "Há 100 carros disponíveis.\n",
            "Há apenas 30 motoristas disponí­veis.\n",
            "Haverá 70 carros vazios hoje.\n",
            "Podemos transportar 120.0 pessoas hoje.\n",
            "Temos 90 passageiros para a carona hoje.\n",
            "Precisamos colocar cerca de 3.0 em cada carro.\n",
            "2.0\n"
          ]
        }
      ]
    },
    {
      "cell_type": "markdown",
      "source": [
        "# 3. Entrada e saída de dados"
      ],
      "metadata": {
        "id": "1zvGk25LU8fX"
      }
    },
    {
      "cell_type": "code",
      "source": [
        "print(\"Quantos anos você tem?\", end=' ')\n",
        "idade = input()\n",
        "\n",
        "print(\"Qual a sua altura (cm)?\", end=' ')\n",
        "altura = input()\n",
        "\n",
        "print(\"Quanto você pesa?\", end=' ')\n",
        "peso = input()\n",
        "\n",
        "print(f\"Então, você tem {idade} anos, {altura} cm de altura e pesa {peso}.\")"
      ],
      "metadata": {
        "colab": {
          "base_uri": "https://localhost:8080/"
        },
        "id": "_I8_gXTGU-6S",
        "outputId": "8a84b572-470d-40e3-bc49-8bd6a3467128"
      },
      "execution_count": 5,
      "outputs": [
        {
          "output_type": "stream",
          "name": "stdout",
          "text": [
            "Quantos anos você tem? 25\n",
            "Qual a sua altura (cm)? 168\n",
            "Quanto você pesa? 65\n",
            "Então, você tem 25 anos, 168 cm de altura e pesa 65.\n"
          ]
        }
      ]
    },
    {
      "cell_type": "markdown",
      "source": [
        "# 4. Operadores"
      ],
      "metadata": {
        "id": "dBLlUnRlVO6w"
      }
    },
    {
      "cell_type": "code",
      "source": [
        "print(\"Agora vou contar minhas galinhas:\")\n",
        "print(\"Galinhas\", 25 + 30 / 6)\n",
        "print(\"Galos\", 100.0 - 25 * 3 % 4)\n",
        "\n",
        "print(\"Agora vou contar os ovos:\")\n",
        "print(3 + 2 + 1 - 5 + 4 % 2 - 1 / 4 + 6)\n",
        "\n",
        "print(\"É verdade que 3 + 2 < 5 - 7?\")\n",
        "print(3 + 2 < 5 - 7)\n",
        "\n",
        "print(\"Quanto é 3 + 2?\", 3 + 2)\n",
        "print(\"Quanto é 5 - 7?\", 5 - 7)\n",
        "print(\"Ah, é por isso que é Falso.\")\n",
        "\n",
        "print(\"Que tal mais algumas comparaÃ§Ãµes?\")\n",
        "\n",
        "print(\"É maior?\", 5 > -2)\n",
        "print(\"É maior ou igual?\", 5 >= -2)\n",
        "print(\"É menor ou igual?\", 5 <= -2)"
      ],
      "metadata": {
        "colab": {
          "base_uri": "https://localhost:8080/"
        },
        "id": "LdsFjiFNVRQ8",
        "outputId": "02567f28-a2c7-47c0-a309-bb394eb204e9"
      },
      "execution_count": 6,
      "outputs": [
        {
          "output_type": "stream",
          "name": "stdout",
          "text": [
            "Agora vou contar minhas galinhas:\n",
            "Galinhas 30.0\n",
            "Galos 97.0\n",
            "Agora vou contar os ovos:\n",
            "6.75\n",
            "É verdade que 3 + 2 < 5 - 7?\n",
            "False\n",
            "Quanto é 3 + 2? 5\n",
            "Quanto é 5 - 7? -2\n",
            "Ah, é por isso que é Falso.\n",
            "Que tal mais algumas comparaÃ§Ãµes?\n",
            "É maior? True\n",
            "É maior ou igual? True\n",
            "É menor ou igual? False\n"
          ]
        }
      ]
    },
    {
      "cell_type": "markdown",
      "source": [
        "# 5. Estruturas condicionais"
      ],
      "metadata": {
        "id": "eMTFynXlVoer"
      }
    },
    {
      "cell_type": "code",
      "source": [
        "pessoas = 30\n",
        "carros = 40\n",
        "caminhoes = 15\n",
        "\n",
        "if carros > pessoas:\n",
        "    print(\"Devemos pegar os carros.\")\n",
        "elif carros < pessoas:\n",
        "    print(\"Não devemos pegar os carros.\")\n",
        "else:\n",
        "    print(\"Não podemos decidir.\")\n",
        "\n",
        "if caminhoes > carros:\n",
        "    print(\"São caminhÃµes demais.\")\n",
        "elif caminhoes < carros:\n",
        "    print(\"Talvez possamos pegar os caminhões.\")\n",
        "else:\n",
        "    print(\"Ainda não podemos decidir.\")\n",
        "\n",
        "if pessoas > caminhoes:\n",
        "    print(\"Certo, vamos apenas pegar os caminhões.\")\n",
        "else:\n",
        "    print(\"Tudo bem, então vamos ficar em casa.\")"
      ],
      "metadata": {
        "colab": {
          "base_uri": "https://localhost:8080/"
        },
        "id": "r3CrDwyWVr5Q",
        "outputId": "c2bd4d04-47a1-4f07-8bdf-5d857444a657"
      },
      "execution_count": 7,
      "outputs": [
        {
          "output_type": "stream",
          "name": "stdout",
          "text": [
            "Devemos pegar os carros.\n",
            "Talvez possamos pegar os caminhões.\n",
            "Certo, vamos apenas pegar os caminhões.\n"
          ]
        }
      ]
    },
    {
      "cell_type": "markdown",
      "source": [
        "# 6. Laços de repetição"
      ],
      "metadata": {
        "id": "IjWk2aAQWBgk"
      }
    },
    {
      "cell_type": "code",
      "source": [
        "i = 0\n",
        "numeros = []\n",
        "\n",
        "while i < 6:\n",
        "    print(f\"No topo, i é {i}\")\n",
        "    numeros.append(i)\n",
        "\n",
        "    i = i + 1\n",
        "    print(\"Números agora:\", numeros)\n",
        "    print(f\"Na parte inferior, i é {i}\")\n",
        "\n",
        "print(\"Os números:\")\n",
        "\n",
        "for num in numeros:\n",
        "    print(num)\n"
      ],
      "metadata": {
        "colab": {
          "base_uri": "https://localhost:8080/"
        },
        "id": "Ngu9D3O7WFW-",
        "outputId": "e21887ee-62a3-4c3d-97d7-e9cd89ff56d7"
      },
      "execution_count": 8,
      "outputs": [
        {
          "output_type": "stream",
          "name": "stdout",
          "text": [
            "No topo, i é 0\n",
            "Números agora: [0]\n",
            "Na parte inferior, i é 1\n",
            "No topo, i é 1\n",
            "Números agora: [0, 1]\n",
            "Na parte inferior, i é 2\n",
            "No topo, i é 2\n",
            "Números agora: [0, 1, 2]\n",
            "Na parte inferior, i é 3\n",
            "No topo, i é 3\n",
            "Números agora: [0, 1, 2, 3]\n",
            "Na parte inferior, i é 4\n",
            "No topo, i é 4\n",
            "Números agora: [0, 1, 2, 3, 4]\n",
            "Na parte inferior, i é 5\n",
            "No topo, i é 5\n",
            "Números agora: [0, 1, 2, 3, 4, 5]\n",
            "Na parte inferior, i é 6\n",
            "Os números:\n",
            "0\n",
            "1\n",
            "2\n",
            "3\n",
            "4\n",
            "5\n"
          ]
        }
      ]
    },
    {
      "cell_type": "markdown",
      "source": [
        "# 7. Listas e strings"
      ],
      "metadata": {
        "id": "Mxftz0KWWgwt"
      }
    },
    {
      "cell_type": "code",
      "source": [
        "contagem = [1, 2, 3, 4, 5]\n",
        "frutas = ['maçãs', 'laranjas', 'peras', 'damascos']\n",
        "troco = [1, 'centavos', 2, 'dimes', 3, 'quarters']\n",
        "\n",
        "for numero in contagem:\n",
        "    print(f\"Este é o número {numero}\")\n",
        "\n",
        "for fruta in frutas:\n",
        "    print(f\"Uma fruta do tipo: {fruta}\")\n",
        "\n",
        "for i in troco:\n",
        "    print(f\"Eu tenho {i}\")\n",
        "\n",
        "elementos = []\n",
        "\n",
        "for i in range(0, 6):\n",
        "    print(f\"Adicionando {i} à  lista.\")\n",
        "    elementos.append(i)\n",
        "\n",
        "for i in elementos:\n",
        "    print(f\"O elemento era: {i}\")\n"
      ],
      "metadata": {
        "colab": {
          "base_uri": "https://localhost:8080/"
        },
        "id": "2wsa5pJNWjD6",
        "outputId": "d10fb0fc-9ebd-4ea9-a437-3ff9936aded4"
      },
      "execution_count": 9,
      "outputs": [
        {
          "output_type": "stream",
          "name": "stdout",
          "text": [
            "Este é o número 1\n",
            "Este é o número 2\n",
            "Este é o número 3\n",
            "Este é o número 4\n",
            "Este é o número 5\n",
            "Uma fruta do tipo: maçãs\n",
            "Uma fruta do tipo: laranjas\n",
            "Uma fruta do tipo: peras\n",
            "Uma fruta do tipo: damascos\n",
            "Eu tenho 1\n",
            "Eu tenho centavos\n",
            "Eu tenho 2\n",
            "Eu tenho dimes\n",
            "Eu tenho 3\n",
            "Eu tenho quarters\n",
            "Adicionando 0 à  lista.\n",
            "Adicionando 1 à  lista.\n",
            "Adicionando 2 à  lista.\n",
            "Adicionando 3 à  lista.\n",
            "Adicionando 4 à  lista.\n",
            "Adicionando 5 à  lista.\n",
            "O elemento era: 0\n",
            "O elemento era: 1\n",
            "O elemento era: 2\n",
            "O elemento era: 3\n",
            "O elemento era: 4\n",
            "O elemento era: 5\n"
          ]
        }
      ]
    }
  ]
}